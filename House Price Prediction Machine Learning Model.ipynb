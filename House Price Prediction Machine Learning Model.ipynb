{
 "cells": [
  {
   "cell_type": "markdown",
   "id": "b9d90c36",
   "metadata": {},
   "source": [
    "# HOUSE PRICE PREDICTION MACHINE LEARNING MODEL"
   ]
  },
  {
   "cell_type": "markdown",
   "id": "c52aad81",
   "metadata": {},
   "source": [
    "## INTRODUCTION"
   ]
  },
  {
   "cell_type": "markdown",
   "id": "c79eabfb",
   "metadata": {},
   "source": [
    "This notebook will be going through some basic steps of feature selection to build a Multiple Linear Regression model and a K-nearest Neighbors (KNN) Regressor model for house price prediction, evaluating and enhancing models' performance by feature scaling techniques."
   ]
  },
  {
   "cell_type": "markdown",
   "id": "d9375b07",
   "metadata": {},
   "source": [
    "## 1. PROBLEM DEFINITION"
   ]
  },
  {
   "cell_type": "markdown",
   "id": "18f8dcac",
   "metadata": {},
   "source": [
    "With the given parameters, how well we can predict the price of a house using a machine learning model?"
   ]
  },
  {
   "cell_type": "markdown",
   "id": "9f534401",
   "metadata": {},
   "source": [
    "## 2. DATA PREPARATION"
   ]
  },
  {
   "cell_type": "markdown",
   "id": "b7a9aadd",
   "metadata": {},
   "source": [
    "### a. Data description"
   ]
  },
  {
   "cell_type": "markdown",
   "id": "330aee56",
   "metadata": {},
   "source": [
    "* Data source: House Sales in King County, USA [Link](https://www.kaggle.com/datasets/harlfoxem/housesalesprediction).\n",
    "* Data organization: 1 CSV file organized in a long data format.\n",
    "* Sample size: 21,613 observations.\n",
    "* Number of features: 21 columns.\n",
    "* Data duration: 2014-05-01 to 2015-05-01.\n",
    "* Data credibility: Since the data was collected by a third party, it is difficult to verify the reliability of the dataset.\n",
    "* Data license: CC0 Public Domain."
   ]
  },
  {
   "cell_type": "markdown",
   "id": "67d0fef1",
   "metadata": {},
   "source": [
    "### b. Features"
   ]
  },
  {
   "cell_type": "markdown",
   "id": "26125c6f",
   "metadata": {},
   "source": [
    "Kaggle also provides a [data dictionary](https://www.kaggle.com/datasets/harlfoxem/housesalesprediction) detailing all of the features of the dataset.\n",
    "* id - Unique ID for each home sold.\n",
    "* date - Date of the home sale.\n",
    "* price - Price of each home sold.\n",
    "* bedrooms - Number of bedrooms.\n",
    "* bathrooms - Number of bathrooms, where 0.5 accounts for a room with a toilet but no shower.\n",
    "* sqft_living - Square footage of the apartments interior living space.\n",
    "* sqft_lot - Square footage of the land space.\n",
    "* floors - Number of floors.\n",
    "* waterfront - A dummy variable for whether the apartment was overlooking the waterfront or not.\n",
    "* view - An index from 0 to 4 of how good the view of the property was, higher number better view.\n",
    "* condition - An index from 1 to 5 on the condition of the apartment, higher number better condition.\n",
    "* grade - An index from 1 to 13, higher number higher quality level of construction and design.\n",
    "* sqft_above - The square footage of the interior housing space that is above ground level.\n",
    "* sqft_basement - The square footage of the interior housing space that is below ground level.\n",
    "* yr_built - The year the house was initially built.\n",
    "* yr_renovated - The year of the house’s last renovation.\n",
    "* zipcode - What zipcode area the house is in.\n",
    "* lat - Lattitude.\n",
    "* long - Longitude.\n",
    "* sqft_living15 - The square footage of interior housing living space for the nearest 15 neighbors.\n",
    "* sqft_lot15 - The square footage of the land lots of the nearest 15 neighbors.\n"
   ]
  },
  {
   "cell_type": "markdown",
   "id": "ba48dce5",
   "metadata": {},
   "source": [
    "## 3. DATA PROCESSING"
   ]
  },
  {
   "cell_type": "markdown",
   "id": "b93c532d",
   "metadata": {},
   "source": [
    "I decide to use Python for data cleaning and data modeling because we can use Scikit-learn, which is the most useful and robust library for machine learning in Python. It provides a selection of efficient tools for machine learning and statistical modeling including classification, regression, clustering and dimensionality reduction via a consistence interface in Python."
   ]
  },
  {
   "cell_type": "markdown",
   "id": "b15099c3",
   "metadata": {},
   "source": [
    "Let's load some required packages for data modeling and import our dataset."
   ]
  },
  {
   "cell_type": "code",
   "execution_count": 1,
   "id": "e70a3c08",
   "metadata": {},
   "outputs": [],
   "source": [
    "#Regular EDA (exploratory data analysis) and plotting libraries\n",
    "import math\n",
    "import pandas as pd\n",
    "import seaborn as sns\n",
    "import matplotlib.pylab as plt\n",
    "import matplotlib.pyplot as plt\n",
    "\n",
    "\n",
    "#Package for splitting the dataset to training set and test set\n",
    "from sklearn.model_selection import train_test_split, cross_val_predict\n",
    "\n",
    "#Package for Linear Regression model\n",
    "from sklearn.linear_model import LinearRegression\n",
    "\n",
    "#Packages to perform Exhaustive Search\n",
    "from dmba import regressionSummary, exhaustive_search\n",
    "from dmba import adjusted_r2_score, AIC_score, BIC_score\n",
    "\n",
    "#Package for KNN Regressor model\n",
    "from sklearn.neighbors import NearestNeighbors, KNeighborsRegressor\n",
    "\n",
    "#Package for data standardization\n",
    "from sklearn.preprocessing import StandardScaler\n",
    "\n",
    "#Package for model evaluation\n",
    "from dmba import regressionSummary, classificationSummary\n",
    "from sklearn.metrics import r2_score, mean_squared_error"
   ]
  },
  {
   "cell_type": "code",
   "execution_count": 2,
   "id": "01f53870",
   "metadata": {},
   "outputs": [],
   "source": [
    "#Importing housing dataset\n",
    "housing_df = pd.read_csv('HousingDataSet.csv')"
   ]
  },
  {
   "cell_type": "code",
   "execution_count": 3,
   "id": "e4b44dfe",
   "metadata": {},
   "outputs": [
    {
     "data": {
      "text/html": [
       "<div>\n",
       "<style scoped>\n",
       "    .dataframe tbody tr th:only-of-type {\n",
       "        vertical-align: middle;\n",
       "    }\n",
       "\n",
       "    .dataframe tbody tr th {\n",
       "        vertical-align: top;\n",
       "    }\n",
       "\n",
       "    .dataframe thead th {\n",
       "        text-align: right;\n",
       "    }\n",
       "</style>\n",
       "<table border=\"1\" class=\"dataframe\">\n",
       "  <thead>\n",
       "    <tr style=\"text-align: right;\">\n",
       "      <th></th>\n",
       "      <th>id</th>\n",
       "      <th>date</th>\n",
       "      <th>price</th>\n",
       "      <th>bedrooms</th>\n",
       "      <th>bathrooms</th>\n",
       "      <th>sqft_living</th>\n",
       "      <th>sqft_lot</th>\n",
       "      <th>floors</th>\n",
       "      <th>waterfront</th>\n",
       "      <th>view</th>\n",
       "      <th>...</th>\n",
       "      <th>grade</th>\n",
       "      <th>sqft_above</th>\n",
       "      <th>sqft_basement</th>\n",
       "      <th>yr_built</th>\n",
       "      <th>yr_renovated</th>\n",
       "      <th>zipcode</th>\n",
       "      <th>lat</th>\n",
       "      <th>long</th>\n",
       "      <th>sqft_living15</th>\n",
       "      <th>sqft_lot15</th>\n",
       "    </tr>\n",
       "  </thead>\n",
       "  <tbody>\n",
       "    <tr>\n",
       "      <th>0</th>\n",
       "      <td>7129300520</td>\n",
       "      <td>20141013T000000</td>\n",
       "      <td>221900.0</td>\n",
       "      <td>3</td>\n",
       "      <td>1.00</td>\n",
       "      <td>1180</td>\n",
       "      <td>5650</td>\n",
       "      <td>1.0</td>\n",
       "      <td>0</td>\n",
       "      <td>0</td>\n",
       "      <td>...</td>\n",
       "      <td>7</td>\n",
       "      <td>1180</td>\n",
       "      <td>0</td>\n",
       "      <td>1955</td>\n",
       "      <td>0</td>\n",
       "      <td>98178</td>\n",
       "      <td>47.5112</td>\n",
       "      <td>-122.257</td>\n",
       "      <td>1340</td>\n",
       "      <td>5650</td>\n",
       "    </tr>\n",
       "    <tr>\n",
       "      <th>1</th>\n",
       "      <td>6414100192</td>\n",
       "      <td>20141209T000000</td>\n",
       "      <td>538000.0</td>\n",
       "      <td>3</td>\n",
       "      <td>2.25</td>\n",
       "      <td>2570</td>\n",
       "      <td>7242</td>\n",
       "      <td>2.0</td>\n",
       "      <td>0</td>\n",
       "      <td>0</td>\n",
       "      <td>...</td>\n",
       "      <td>7</td>\n",
       "      <td>2170</td>\n",
       "      <td>400</td>\n",
       "      <td>1951</td>\n",
       "      <td>1991</td>\n",
       "      <td>98125</td>\n",
       "      <td>47.7210</td>\n",
       "      <td>-122.319</td>\n",
       "      <td>1690</td>\n",
       "      <td>7639</td>\n",
       "    </tr>\n",
       "    <tr>\n",
       "      <th>2</th>\n",
       "      <td>5631500400</td>\n",
       "      <td>20150225T000000</td>\n",
       "      <td>180000.0</td>\n",
       "      <td>2</td>\n",
       "      <td>1.00</td>\n",
       "      <td>770</td>\n",
       "      <td>10000</td>\n",
       "      <td>1.0</td>\n",
       "      <td>0</td>\n",
       "      <td>0</td>\n",
       "      <td>...</td>\n",
       "      <td>6</td>\n",
       "      <td>770</td>\n",
       "      <td>0</td>\n",
       "      <td>1933</td>\n",
       "      <td>0</td>\n",
       "      <td>98028</td>\n",
       "      <td>47.7379</td>\n",
       "      <td>-122.233</td>\n",
       "      <td>2720</td>\n",
       "      <td>8062</td>\n",
       "    </tr>\n",
       "    <tr>\n",
       "      <th>3</th>\n",
       "      <td>2487200875</td>\n",
       "      <td>20141209T000000</td>\n",
       "      <td>604000.0</td>\n",
       "      <td>4</td>\n",
       "      <td>3.00</td>\n",
       "      <td>1960</td>\n",
       "      <td>5000</td>\n",
       "      <td>1.0</td>\n",
       "      <td>0</td>\n",
       "      <td>0</td>\n",
       "      <td>...</td>\n",
       "      <td>7</td>\n",
       "      <td>1050</td>\n",
       "      <td>910</td>\n",
       "      <td>1965</td>\n",
       "      <td>0</td>\n",
       "      <td>98136</td>\n",
       "      <td>47.5208</td>\n",
       "      <td>-122.393</td>\n",
       "      <td>1360</td>\n",
       "      <td>5000</td>\n",
       "    </tr>\n",
       "    <tr>\n",
       "      <th>4</th>\n",
       "      <td>1954400510</td>\n",
       "      <td>20150218T000000</td>\n",
       "      <td>510000.0</td>\n",
       "      <td>3</td>\n",
       "      <td>2.00</td>\n",
       "      <td>1680</td>\n",
       "      <td>8080</td>\n",
       "      <td>1.0</td>\n",
       "      <td>0</td>\n",
       "      <td>0</td>\n",
       "      <td>...</td>\n",
       "      <td>8</td>\n",
       "      <td>1680</td>\n",
       "      <td>0</td>\n",
       "      <td>1987</td>\n",
       "      <td>0</td>\n",
       "      <td>98074</td>\n",
       "      <td>47.6168</td>\n",
       "      <td>-122.045</td>\n",
       "      <td>1800</td>\n",
       "      <td>7503</td>\n",
       "    </tr>\n",
       "    <tr>\n",
       "      <th>5</th>\n",
       "      <td>7237550310</td>\n",
       "      <td>20140512T000000</td>\n",
       "      <td>1225000.0</td>\n",
       "      <td>4</td>\n",
       "      <td>4.50</td>\n",
       "      <td>5420</td>\n",
       "      <td>101930</td>\n",
       "      <td>1.0</td>\n",
       "      <td>0</td>\n",
       "      <td>0</td>\n",
       "      <td>...</td>\n",
       "      <td>11</td>\n",
       "      <td>3890</td>\n",
       "      <td>1530</td>\n",
       "      <td>2001</td>\n",
       "      <td>0</td>\n",
       "      <td>98053</td>\n",
       "      <td>47.6561</td>\n",
       "      <td>-122.005</td>\n",
       "      <td>4760</td>\n",
       "      <td>101930</td>\n",
       "    </tr>\n",
       "    <tr>\n",
       "      <th>6</th>\n",
       "      <td>1321400060</td>\n",
       "      <td>20140627T000000</td>\n",
       "      <td>257500.0</td>\n",
       "      <td>3</td>\n",
       "      <td>2.25</td>\n",
       "      <td>1715</td>\n",
       "      <td>6819</td>\n",
       "      <td>2.0</td>\n",
       "      <td>0</td>\n",
       "      <td>0</td>\n",
       "      <td>...</td>\n",
       "      <td>7</td>\n",
       "      <td>1715</td>\n",
       "      <td>0</td>\n",
       "      <td>1995</td>\n",
       "      <td>0</td>\n",
       "      <td>98003</td>\n",
       "      <td>47.3097</td>\n",
       "      <td>-122.327</td>\n",
       "      <td>2238</td>\n",
       "      <td>6819</td>\n",
       "    </tr>\n",
       "    <tr>\n",
       "      <th>7</th>\n",
       "      <td>2008000270</td>\n",
       "      <td>20150115T000000</td>\n",
       "      <td>291850.0</td>\n",
       "      <td>3</td>\n",
       "      <td>1.50</td>\n",
       "      <td>1060</td>\n",
       "      <td>9711</td>\n",
       "      <td>1.0</td>\n",
       "      <td>0</td>\n",
       "      <td>0</td>\n",
       "      <td>...</td>\n",
       "      <td>7</td>\n",
       "      <td>1060</td>\n",
       "      <td>0</td>\n",
       "      <td>1963</td>\n",
       "      <td>0</td>\n",
       "      <td>98198</td>\n",
       "      <td>47.4095</td>\n",
       "      <td>-122.315</td>\n",
       "      <td>1650</td>\n",
       "      <td>9711</td>\n",
       "    </tr>\n",
       "    <tr>\n",
       "      <th>8</th>\n",
       "      <td>2414600126</td>\n",
       "      <td>20150415T000000</td>\n",
       "      <td>229500.0</td>\n",
       "      <td>3</td>\n",
       "      <td>1.00</td>\n",
       "      <td>1780</td>\n",
       "      <td>7470</td>\n",
       "      <td>1.0</td>\n",
       "      <td>0</td>\n",
       "      <td>0</td>\n",
       "      <td>...</td>\n",
       "      <td>7</td>\n",
       "      <td>1050</td>\n",
       "      <td>730</td>\n",
       "      <td>1960</td>\n",
       "      <td>0</td>\n",
       "      <td>98146</td>\n",
       "      <td>47.5123</td>\n",
       "      <td>-122.337</td>\n",
       "      <td>1780</td>\n",
       "      <td>8113</td>\n",
       "    </tr>\n",
       "    <tr>\n",
       "      <th>9</th>\n",
       "      <td>3793500160</td>\n",
       "      <td>20150312T000000</td>\n",
       "      <td>323000.0</td>\n",
       "      <td>3</td>\n",
       "      <td>2.50</td>\n",
       "      <td>1890</td>\n",
       "      <td>6560</td>\n",
       "      <td>2.0</td>\n",
       "      <td>0</td>\n",
       "      <td>0</td>\n",
       "      <td>...</td>\n",
       "      <td>7</td>\n",
       "      <td>1890</td>\n",
       "      <td>0</td>\n",
       "      <td>2003</td>\n",
       "      <td>0</td>\n",
       "      <td>98038</td>\n",
       "      <td>47.3684</td>\n",
       "      <td>-122.031</td>\n",
       "      <td>2390</td>\n",
       "      <td>7570</td>\n",
       "    </tr>\n",
       "  </tbody>\n",
       "</table>\n",
       "<p>10 rows × 21 columns</p>\n",
       "</div>"
      ],
      "text/plain": [
       "           id             date      price  bedrooms  bathrooms  sqft_living  \\\n",
       "0  7129300520  20141013T000000   221900.0         3       1.00         1180   \n",
       "1  6414100192  20141209T000000   538000.0         3       2.25         2570   \n",
       "2  5631500400  20150225T000000   180000.0         2       1.00          770   \n",
       "3  2487200875  20141209T000000   604000.0         4       3.00         1960   \n",
       "4  1954400510  20150218T000000   510000.0         3       2.00         1680   \n",
       "5  7237550310  20140512T000000  1225000.0         4       4.50         5420   \n",
       "6  1321400060  20140627T000000   257500.0         3       2.25         1715   \n",
       "7  2008000270  20150115T000000   291850.0         3       1.50         1060   \n",
       "8  2414600126  20150415T000000   229500.0         3       1.00         1780   \n",
       "9  3793500160  20150312T000000   323000.0         3       2.50         1890   \n",
       "\n",
       "   sqft_lot  floors  waterfront  view  ...  grade  sqft_above  sqft_basement  \\\n",
       "0      5650     1.0           0     0  ...      7        1180              0   \n",
       "1      7242     2.0           0     0  ...      7        2170            400   \n",
       "2     10000     1.0           0     0  ...      6         770              0   \n",
       "3      5000     1.0           0     0  ...      7        1050            910   \n",
       "4      8080     1.0           0     0  ...      8        1680              0   \n",
       "5    101930     1.0           0     0  ...     11        3890           1530   \n",
       "6      6819     2.0           0     0  ...      7        1715              0   \n",
       "7      9711     1.0           0     0  ...      7        1060              0   \n",
       "8      7470     1.0           0     0  ...      7        1050            730   \n",
       "9      6560     2.0           0     0  ...      7        1890              0   \n",
       "\n",
       "   yr_built  yr_renovated  zipcode      lat     long  sqft_living15  \\\n",
       "0      1955             0    98178  47.5112 -122.257           1340   \n",
       "1      1951          1991    98125  47.7210 -122.319           1690   \n",
       "2      1933             0    98028  47.7379 -122.233           2720   \n",
       "3      1965             0    98136  47.5208 -122.393           1360   \n",
       "4      1987             0    98074  47.6168 -122.045           1800   \n",
       "5      2001             0    98053  47.6561 -122.005           4760   \n",
       "6      1995             0    98003  47.3097 -122.327           2238   \n",
       "7      1963             0    98198  47.4095 -122.315           1650   \n",
       "8      1960             0    98146  47.5123 -122.337           1780   \n",
       "9      2003             0    98038  47.3684 -122.031           2390   \n",
       "\n",
       "   sqft_lot15  \n",
       "0        5650  \n",
       "1        7639  \n",
       "2        8062  \n",
       "3        5000  \n",
       "4        7503  \n",
       "5      101930  \n",
       "6        6819  \n",
       "7        9711  \n",
       "8        8113  \n",
       "9        7570  \n",
       "\n",
       "[10 rows x 21 columns]"
      ]
     },
     "execution_count": 3,
     "metadata": {},
     "output_type": "execute_result"
    }
   ],
   "source": [
    "#Viewing the first 10 rows\n",
    "housing_df.head(10)"
   ]
  },
  {
   "cell_type": "code",
   "execution_count": 4,
   "id": "fe361f31",
   "metadata": {},
   "outputs": [
    {
     "data": {
      "text/plain": [
       "(21613, 21)"
      ]
     },
     "execution_count": 4,
     "metadata": {},
     "output_type": "execute_result"
    }
   ],
   "source": [
    "#Viewing dataframe structure\n",
    "housing_df.shape"
   ]
  },
  {
   "cell_type": "markdown",
   "id": "a73ca7f3",
   "metadata": {},
   "source": [
    "There are 21,613 rows of 21 fields in our housing dataset."
   ]
  },
  {
   "cell_type": "code",
   "execution_count": 5,
   "id": "0103e6f9",
   "metadata": {},
   "outputs": [
    {
     "data": {
      "text/plain": [
       "id               21613\n",
       "date             21613\n",
       "price            21613\n",
       "bedrooms         21613\n",
       "bathrooms        21613\n",
       "sqft_living      21613\n",
       "sqft_lot         21613\n",
       "floors           21613\n",
       "waterfront       21613\n",
       "view             21613\n",
       "condition        21613\n",
       "grade            21613\n",
       "sqft_above       21613\n",
       "sqft_basement    21613\n",
       "yr_built         21613\n",
       "yr_renovated     21613\n",
       "zipcode          21613\n",
       "lat              21613\n",
       "long             21613\n",
       "sqft_living15    21613\n",
       "sqft_lot15       21613\n",
       "dtype: int64"
      ]
     },
     "execution_count": 5,
     "metadata": {},
     "output_type": "execute_result"
    }
   ],
   "source": [
    "#Counting the number of values in each column\n",
    "housing_df.count()"
   ]
  },
  {
   "cell_type": "markdown",
   "id": "9c29e02d",
   "metadata": {},
   "source": [
    "Column names are consistent, there is no missing value in our dataset."
   ]
  },
  {
   "cell_type": "code",
   "execution_count": 6,
   "id": "7e22f301",
   "metadata": {},
   "outputs": [
    {
     "data": {
      "text/plain": [
       "id               21436\n",
       "date               372\n",
       "price             4028\n",
       "bedrooms            13\n",
       "bathrooms           30\n",
       "sqft_living       1038\n",
       "sqft_lot          9782\n",
       "floors               6\n",
       "waterfront           2\n",
       "view                 5\n",
       "condition            5\n",
       "grade               12\n",
       "sqft_above         946\n",
       "sqft_basement      306\n",
       "yr_built           116\n",
       "yr_renovated        70\n",
       "zipcode             70\n",
       "lat               5034\n",
       "long               752\n",
       "sqft_living15      777\n",
       "sqft_lot15        8689\n",
       "dtype: int64"
      ]
     },
     "execution_count": 6,
     "metadata": {},
     "output_type": "execute_result"
    }
   ],
   "source": [
    "#Counting the number of unique value in each column\n",
    "housing_df.nunique()"
   ]
  },
  {
   "cell_type": "code",
   "execution_count": 7,
   "id": "846983f5",
   "metadata": {},
   "outputs": [
    {
     "name": "stdout",
     "output_type": "stream",
     "text": [
      "<class 'pandas.core.frame.DataFrame'>\n",
      "RangeIndex: 21613 entries, 0 to 21612\n",
      "Data columns (total 21 columns):\n",
      " #   Column         Non-Null Count  Dtype  \n",
      "---  ------         --------------  -----  \n",
      " 0   id             21613 non-null  int64  \n",
      " 1   date           21613 non-null  object \n",
      " 2   price          21613 non-null  float64\n",
      " 3   bedrooms       21613 non-null  int64  \n",
      " 4   bathrooms      21613 non-null  float64\n",
      " 5   sqft_living    21613 non-null  int64  \n",
      " 6   sqft_lot       21613 non-null  int64  \n",
      " 7   floors         21613 non-null  float64\n",
      " 8   waterfront     21613 non-null  int64  \n",
      " 9   view           21613 non-null  int64  \n",
      " 10  condition      21613 non-null  int64  \n",
      " 11  grade          21613 non-null  int64  \n",
      " 12  sqft_above     21613 non-null  int64  \n",
      " 13  sqft_basement  21613 non-null  int64  \n",
      " 14  yr_built       21613 non-null  int64  \n",
      " 15  yr_renovated   21613 non-null  int64  \n",
      " 16  zipcode        21613 non-null  int64  \n",
      " 17  lat            21613 non-null  float64\n",
      " 18  long           21613 non-null  float64\n",
      " 19  sqft_living15  21613 non-null  int64  \n",
      " 20  sqft_lot15     21613 non-null  int64  \n",
      "dtypes: float64(5), int64(15), object(1)\n",
      "memory usage: 3.5+ MB\n"
     ]
    }
   ],
   "source": [
    "#Rechecking if there are any null values in our dataset\n",
    "housing_df.info()"
   ]
  },
  {
   "cell_type": "code",
   "execution_count": 8,
   "id": "1c904dc3",
   "metadata": {},
   "outputs": [
    {
     "data": {
      "text/plain": [
       "Text(0.5, 1.0, 'Empty Data')"
      ]
     },
     "execution_count": 8,
     "metadata": {},
     "output_type": "execute_result"
    },
    {
     "data": {
      "image/png": "[encoded data removed]",
      "text/plain": [
       "<Figure size 432x288 with 2 Axes>"
      ]
     },
     "metadata": {
      "needs_background": "light"
     },
     "output_type": "display_data"
    }
   ],
   "source": [
    "#Plotting null values in our dataset by using heatmap\n",
    "sns.heatmap(housing_df.isnull())\n",
    "plt.title(\"Empty Data\")"
   ]
  },
  {
   "cell_type": "code",
   "execution_count": 9,
   "id": "cf3fc702",
   "metadata": {},
   "outputs": [],
   "source": [
    "#Because yr_built is a ordinal variable, I will transform it to a numeric variable.\n",
    "#Creating AGE variable (age of the property)\n",
    "housing_df['age'] = 2022 - housing_df['yr_built']"
   ]
  },
  {
   "cell_type": "code",
   "execution_count": 10,
   "id": "41bfd939",
   "metadata": {},
   "outputs": [],
   "source": [
    "#Changing yr_renovated variable to dummy variable (whether the apartment was renovated or not)\n",
    "housing_df.loc[housing_df['yr_renovated'] != 0, 'yr_renovated'] = 1"
   ]
  },
  {
   "cell_type": "code",
   "execution_count": 11,
   "id": "bd10b3fb",
   "metadata": {},
   "outputs": [],
   "source": [
    "#Renaming column yr_renovated to renovated\n",
    "housing_df.rename(columns={'yr_renovated': 'renovated'}, inplace=True)"
   ]
  },
  {
   "cell_type": "code",
   "execution_count": 12,
   "id": "5f53049b",
   "metadata": {},
   "outputs": [],
   "source": [
    "#Droping unnecessary columns id, date, yr_built, zipcode in housing dataset\n",
    "housing_df.drop(['id', 'date', 'yr_built', 'zipcode'], axis=1, inplace=True)"
   ]
  },
  {
   "cell_type": "code",
   "execution_count": 13,
   "id": "ce1aa9db",
   "metadata": {},
   "outputs": [
    {
     "data": {
      "text/plain": [
       "(21613, 18)"
      ]
     },
     "execution_count": 13,
     "metadata": {},
     "output_type": "execute_result"
    }
   ],
   "source": [
    "#Viewing dataframe structure\n",
    "housing_df.shape"
   ]
  },
  {
   "cell_type": "markdown",
   "id": "050957cc",
   "metadata": {},
   "source": [
    "After performing data cleaning, we have 21613 observations of 18 variables in total."
   ]
  },
  {
   "cell_type": "markdown",
   "id": "e02b0670",
   "metadata": {},
   "source": [
    "## 4. DATA MODELING"
   ]
  },
  {
   "cell_type": "markdown",
   "id": "9bfca2f5",
   "metadata": {},
   "source": [
    "### a. Data partitioning"
   ]
  },
  {
   "cell_type": "code",
   "execution_count": 14,
   "id": "1e89aa3e",
   "metadata": {},
   "outputs": [],
   "source": [
    "#Creating X and y data matrices (X = predictor variables, y = outcome variable)\n",
    "X=housing_df.drop(labels=['price'], axis=1)\n",
    "y=housing_df['price']"
   ]
  },
  {
   "cell_type": "code",
   "execution_count": 15,
   "id": "7a981762",
   "metadata": {},
   "outputs": [],
   "source": [
    "#Splitting the dataset into training set size = 0.8 and validation set size = 0.2\n",
    "train_X, valid_X, train_y, valid_y = train_test_split(X, y, test_size=0.2, random_state=1)"
   ]
  },
  {
   "cell_type": "code",
   "execution_count": 16,
   "id": "c9277e9f",
   "metadata": {},
   "outputs": [
    {
     "data": {
      "text/plain": [
       "((17290, 17), (17290,), (4323, 17), (4323,))"
      ]
     },
     "execution_count": 16,
     "metadata": {},
     "output_type": "execute_result"
    }
   ],
   "source": [
    "train_X.shape, train_y.shape, valid_X.shape, valid_y.shape"
   ]
  },
  {
   "cell_type": "markdown",
   "id": "7ac45ac1",
   "metadata": {},
   "source": [
    "To avoid overfitting, we will be running all the functions and training only on the training set (not train again on the test dataset), and then what features we take away from the train dataset, we are going do the same on the validation set."
   ]
  },
  {
   "cell_type": "markdown",
   "id": "b2727e75",
   "metadata": {},
   "source": [
    "### b. Feature selection"
   ]
  },
  {
   "cell_type": "markdown",
   "id": "3f763983",
   "metadata": {},
   "source": [
    "In this section, I will be using two dimensional reduction techniques: Feature Correlation and Exhaustive Search"
   ]
  },
  {
   "cell_type": "markdown",
   "id": "d049e73f",
   "metadata": {},
   "source": [
    "#### Feature Correlation"
   ]
  },
  {
   "cell_type": "markdown",
   "id": "ea3cdfdd",
   "metadata": {},
   "source": [
    "Below are some notes about feature correlation:\n",
    "* If some independent features (predictors) are highly correlated (with correlation value more than 0.8) we can actually consider removing these features, because these highly correlated features can behave like duplicating themselves.\n",
    "* If an independent feature (predictor) is highly correlated with a dependent feature (outcome), we should not remove this feature, because it can probably play an important role in our machine learning model."
   ]
  },
  {
   "cell_type": "code",
   "execution_count": 17,
   "id": "5b9ff943",
   "metadata": {},
   "outputs": [
    {
     "data": {
      "text/plain": [
       "<AxesSubplot:>"
      ]
     },
     "execution_count": 17,
     "metadata": {},
     "output_type": "execute_result"
    },
    {
     "data": {
      "image/png": "[encoded data removed]",
      "text/plain": [
       "<Figure size 432x288 with 2 Axes>"
      ]
     },
     "metadata": {
      "needs_background": "light"
     },
     "output_type": "display_data"
    },
    {
     "data": {
      "image/png": "[encoded data removed]",
      "text/plain": [
       "<Figure size 792x504 with 2 Axes>"
      ]
     },
     "metadata": {
      "needs_background": "light"
     },
     "output_type": "display_data"
    }
   ],
   "source": [
    "#Constructing a heatmap of correlation on the training set (for only independent variables)\n",
    "corr = train_X.corr()\n",
    "sns.heatmap(corr)\n",
    "fig, ax = plt.subplots()\n",
    "fig.set_size_inches(11, 7)\n",
    "sns.heatmap(corr, annot=True, fmt=\".1f\", cmap=\"RdBu\", center=0, ax=ax)"
   ]
  },
  {
   "cell_type": "code",
   "execution_count": 18,
   "id": "4299691d",
   "metadata": {},
   "outputs": [],
   "source": [
    "#Building a correlation function and using it to eliminate predictors on train_X and valid_X\n",
    "#With the following function we can select highly correlated features\n",
    "#The function will remove the first feature that is correlated with other features\n",
    "\n",
    "def correlation(dataset, threshold): # correlation=function name, dataset=train_X, threshold=cutoff value)\n",
    "    col_corr = set()  # set of all the names of correlated columns\n",
    "    corr_matrix = dataset.corr()\n",
    "    for i in range(len(corr_matrix.columns)): # i goes through all the values in the correlation matrix columns\n",
    "        for j in range(i):\n",
    "            if abs(corr_matrix.iloc[i, j]) > threshold: # we use each absolute coeff value to compare with threshold value\n",
    "                colname = corr_matrix.columns[i]  # get the name of column\n",
    "                col_corr.add(colname) # add the column name to the col_corr set created\n",
    "    return col_corr"
   ]
  },
  {
   "cell_type": "code",
   "execution_count": 19,
   "id": "6255252e",
   "metadata": {},
   "outputs": [
    {
     "data": {
      "text/plain": [
       "1"
      ]
     },
     "execution_count": 19,
     "metadata": {},
     "output_type": "execute_result"
    }
   ],
   "source": [
    "#Counting the number of highly correlated features (with threshold = 0.8)\n",
    "corr_features = correlation(train_X, 0.8)\n",
    "len(set(corr_features))"
   ]
  },
  {
   "cell_type": "code",
   "execution_count": 20,
   "id": "0a4dd12a",
   "metadata": {},
   "outputs": [
    {
     "data": {
      "text/plain": [
       "{'sqft_above'}"
      ]
     },
     "execution_count": 20,
     "metadata": {},
     "output_type": "execute_result"
    }
   ],
   "source": [
    "#Printing the name of the highly correlated feature\n",
    "corr_features"
   ]
  },
  {
   "cell_type": "code",
   "execution_count": 21,
   "id": "ab4db898",
   "metadata": {},
   "outputs": [],
   "source": [
    "#Removing the highly correlated feature (sqft_above) out of training set\n",
    "train_X.drop(corr_features,axis=1, inplace= True)"
   ]
  },
  {
   "cell_type": "code",
   "execution_count": 22,
   "id": "bf895439",
   "metadata": {},
   "outputs": [],
   "source": [
    "#Removing the highly correlated feature (sqft_above) out of test dataset\n",
    "valid_X.drop(corr_features,axis=1, inplace= True)"
   ]
  },
  {
   "cell_type": "code",
   "execution_count": 23,
   "id": "11d44dab",
   "metadata": {},
   "outputs": [
    {
     "data": {
      "text/plain": [
       "((17290, 16), (4323, 16))"
      ]
     },
     "execution_count": 23,
     "metadata": {},
     "output_type": "execute_result"
    }
   ],
   "source": [
    "train_X.shape, valid_X.shape"
   ]
  },
  {
   "cell_type": "markdown",
   "id": "0666a792",
   "metadata": {},
   "source": [
    "After assessing correlation between features, the train_X and valid_X have 16 columns. "
   ]
  },
  {
   "cell_type": "markdown",
   "id": "74b6a98f",
   "metadata": {},
   "source": [
    "#### Demo Linear Regression model"
   ]
  },
  {
   "cell_type": "code",
   "execution_count": 24,
   "id": "27b0377b",
   "metadata": {},
   "outputs": [],
   "source": [
    "#Building a demo regression model\n",
    "model1 = LinearRegression().fit(train_X, train_y)"
   ]
  },
  {
   "cell_type": "code",
   "execution_count": 25,
   "id": "3d84d245",
   "metadata": {},
   "outputs": [
    {
     "name": "stdout",
     "output_type": "stream",
     "text": [
      "Intercept: -41905194.967197604\n",
      "        Predictor   Coefficients\n",
      "0        bedrooms  -30505.959214\n",
      "1       bathrooms   37263.673045\n",
      "2     sqft_living     173.479555\n",
      "3        sqft_lot       0.134256\n",
      "4          floors    4571.510669\n",
      "5      waterfront  544785.250545\n",
      "6            view   48586.085181\n",
      "7       condition   31965.342309\n",
      "8           grade   96625.463722\n",
      "9   sqft_basement     -32.580110\n",
      "10      renovated   45385.662485\n",
      "11            lat  570766.707613\n",
      "12           long -113957.323648\n",
      "13  sqft_living15      26.597338\n",
      "14     sqft_lot15      -0.361636\n",
      "15            age    2362.443780\n"
     ]
    }
   ],
   "source": [
    "#Printing model's coefficients model1\n",
    "print('Intercept:', model1.intercept_)\n",
    "print(pd.DataFrame({'Predictor': train_X.columns, 'Coefficients': model1.coef_}))"
   ]
  },
  {
   "cell_type": "code",
   "execution_count": 26,
   "id": "61822ea8",
   "metadata": {},
   "outputs": [
    {
     "name": "stdout",
     "output_type": "stream",
     "text": [
      "\n",
      "Regression statistics\n",
      "\n",
      "                      Mean Error (ME) : -0.0000\n",
      "       Root Mean Squared Error (RMSE) : 194020.6877\n",
      "            Mean Absolute Error (MAE) : 123541.5638\n",
      "          Mean Percentage Error (MPE) : -4.2883\n",
      "Mean Absolute Percentage Error (MAPE) : 25.0341\n"
     ]
    }
   ],
   "source": [
    "#Printing model performance measurement (on training data) model1\n",
    "regressionSummary(train_y, model1.predict(train_X))"
   ]
  },
  {
   "cell_type": "code",
   "execution_count": 27,
   "id": "921bbf22",
   "metadata": {},
   "outputs": [],
   "source": [
    "#Using predict() function to make predictions on test set model1\n",
    "y_pred1 = model1.predict(valid_X)"
   ]
  },
  {
   "cell_type": "code",
   "execution_count": 28,
   "id": "44633faf",
   "metadata": {},
   "outputs": [
    {
     "name": "stdout",
     "output_type": "stream",
     "text": [
      "\n",
      "Regression statistics\n",
      "\n",
      "                      Mean Error (ME) : 6642.5928\n",
      "       Root Mean Squared Error (RMSE) : 234628.6661\n",
      "            Mean Absolute Error (MAE) : 130015.4677\n",
      "          Mean Percentage Error (MPE) : -3.8607\n",
      "Mean Absolute Percentage Error (MAPE) : 25.3270\n"
     ]
    }
   ],
   "source": [
    "#Printing model performance measurement (on test data) model1\n",
    "regressionSummary(valid_y, y_pred1)"
   ]
  },
  {
   "cell_type": "code",
   "execution_count": 29,
   "id": "2e4bed04",
   "metadata": {},
   "outputs": [
    {
     "name": "stdout",
     "output_type": "stream",
     "text": [
      "Coefficient of determination (R^2): 0.68\n"
     ]
    }
   ],
   "source": [
    "#Printing predictive accuracy measurement model1\n",
    "#Coefficient of determination measures how well the regession model predicts the outcome variable\n",
    "print('Coefficient of determination (R^2): %.2f'\n",
    "      % r2_score(valid_y, y_pred1))"
   ]
  },
  {
   "cell_type": "markdown",
   "id": "170afb5a",
   "metadata": {},
   "source": [
    "#### Exhaustive Search"
   ]
  },
  {
   "cell_type": "markdown",
   "id": "a8aa4136",
   "metadata": {},
   "source": [
    "Even though our demo model performs well with R^2 of 0.68, it is not practical to use this demo model (16 predictors) for prediction. The more predictor features we put into our model, the more time we need to spend on data processing and data analysis. Therefore, I strongly recommend the use of an Exhaustive Seach for Dimensional Reduction with a target of 4 to 6 predictor variables."
   ]
  },
  {
   "cell_type": "code",
   "execution_count": 30,
   "id": "7e3542f3",
   "metadata": {},
   "outputs": [
    {
     "data": {
      "text/html": [
       "<div>\n",
       "<style scoped>\n",
       "    .dataframe tbody tr th:only-of-type {\n",
       "        vertical-align: middle;\n",
       "    }\n",
       "\n",
       "    .dataframe tbody tr th {\n",
       "        vertical-align: top;\n",
       "    }\n",
       "\n",
       "    .dataframe thead th {\n",
       "        text-align: right;\n",
       "    }\n",
       "</style>\n",
       "<table border=\"1\" class=\"dataframe\">\n",
       "  <thead>\n",
       "    <tr style=\"text-align: right;\">\n",
       "      <th></th>\n",
       "      <th>n</th>\n",
       "      <th>r2adj</th>\n",
       "      <th>AIC</th>\n",
       "      <th>age</th>\n",
       "      <th>bathrooms</th>\n",
       "      <th>bedrooms</th>\n",
       "      <th>condition</th>\n",
       "      <th>floors</th>\n",
       "      <th>grade</th>\n",
       "      <th>lat</th>\n",
       "      <th>long</th>\n",
       "      <th>renovated</th>\n",
       "      <th>sqft_basement</th>\n",
       "      <th>sqft_living</th>\n",
       "      <th>sqft_living15</th>\n",
       "      <th>sqft_lot</th>\n",
       "      <th>sqft_lot15</th>\n",
       "      <th>view</th>\n",
       "      <th>waterfront</th>\n",
       "    </tr>\n",
       "  </thead>\n",
       "  <tbody>\n",
       "    <tr>\n",
       "      <th>0</th>\n",
       "      <td>1</td>\n",
       "      <td>0.488731</td>\n",
       "      <td>479300.223180</td>\n",
       "      <td>False</td>\n",
       "      <td>False</td>\n",
       "      <td>False</td>\n",
       "      <td>False</td>\n",
       "      <td>False</td>\n",
       "      <td>False</td>\n",
       "      <td>False</td>\n",
       "      <td>False</td>\n",
       "      <td>False</td>\n",
       "      <td>False</td>\n",
       "      <td>True</td>\n",
       "      <td>False</td>\n",
       "      <td>False</td>\n",
       "      <td>False</td>\n",
       "      <td>False</td>\n",
       "      <td>False</td>\n",
       "    </tr>\n",
       "    <tr>\n",
       "      <th>1</th>\n",
       "      <td>2</td>\n",
       "      <td>0.567906</td>\n",
       "      <td>476392.153716</td>\n",
       "      <td>False</td>\n",
       "      <td>False</td>\n",
       "      <td>False</td>\n",
       "      <td>False</td>\n",
       "      <td>False</td>\n",
       "      <td>False</td>\n",
       "      <td>True</td>\n",
       "      <td>False</td>\n",
       "      <td>False</td>\n",
       "      <td>False</td>\n",
       "      <td>True</td>\n",
       "      <td>False</td>\n",
       "      <td>False</td>\n",
       "      <td>False</td>\n",
       "      <td>False</td>\n",
       "      <td>False</td>\n",
       "    </tr>\n",
       "    <tr>\n",
       "      <th>2</th>\n",
       "      <td>3</td>\n",
       "      <td>0.611717</td>\n",
       "      <td>474544.704455</td>\n",
       "      <td>False</td>\n",
       "      <td>False</td>\n",
       "      <td>False</td>\n",
       "      <td>False</td>\n",
       "      <td>False</td>\n",
       "      <td>False</td>\n",
       "      <td>True</td>\n",
       "      <td>False</td>\n",
       "      <td>False</td>\n",
       "      <td>False</td>\n",
       "      <td>True</td>\n",
       "      <td>False</td>\n",
       "      <td>False</td>\n",
       "      <td>False</td>\n",
       "      <td>True</td>\n",
       "      <td>False</td>\n",
       "    </tr>\n",
       "    <tr>\n",
       "      <th>3</th>\n",
       "      <td>4</td>\n",
       "      <td>0.645720</td>\n",
       "      <td>472961.096198</td>\n",
       "      <td>True</td>\n",
       "      <td>False</td>\n",
       "      <td>False</td>\n",
       "      <td>False</td>\n",
       "      <td>False</td>\n",
       "      <td>True</td>\n",
       "      <td>True</td>\n",
       "      <td>False</td>\n",
       "      <td>False</td>\n",
       "      <td>False</td>\n",
       "      <td>True</td>\n",
       "      <td>False</td>\n",
       "      <td>False</td>\n",
       "      <td>False</td>\n",
       "      <td>False</td>\n",
       "      <td>False</td>\n",
       "    </tr>\n",
       "    <tr>\n",
       "      <th>4</th>\n",
       "      <td>5</td>\n",
       "      <td>0.678577</td>\n",
       "      <td>471279.275869</td>\n",
       "      <td>True</td>\n",
       "      <td>False</td>\n",
       "      <td>False</td>\n",
       "      <td>False</td>\n",
       "      <td>False</td>\n",
       "      <td>True</td>\n",
       "      <td>True</td>\n",
       "      <td>False</td>\n",
       "      <td>False</td>\n",
       "      <td>False</td>\n",
       "      <td>True</td>\n",
       "      <td>False</td>\n",
       "      <td>False</td>\n",
       "      <td>False</td>\n",
       "      <td>False</td>\n",
       "      <td>True</td>\n",
       "    </tr>\n",
       "    <tr>\n",
       "      <th>5</th>\n",
       "      <td>6</td>\n",
       "      <td>0.688103</td>\n",
       "      <td>470760.097460</td>\n",
       "      <td>True</td>\n",
       "      <td>False</td>\n",
       "      <td>False</td>\n",
       "      <td>False</td>\n",
       "      <td>False</td>\n",
       "      <td>True</td>\n",
       "      <td>True</td>\n",
       "      <td>False</td>\n",
       "      <td>False</td>\n",
       "      <td>False</td>\n",
       "      <td>True</td>\n",
       "      <td>False</td>\n",
       "      <td>False</td>\n",
       "      <td>False</td>\n",
       "      <td>True</td>\n",
       "      <td>True</td>\n",
       "    </tr>\n",
       "    <tr>\n",
       "      <th>6</th>\n",
       "      <td>7</td>\n",
       "      <td>0.690837</td>\n",
       "      <td>470608.862657</td>\n",
       "      <td>True</td>\n",
       "      <td>False</td>\n",
       "      <td>True</td>\n",
       "      <td>False</td>\n",
       "      <td>False</td>\n",
       "      <td>True</td>\n",
       "      <td>True</td>\n",
       "      <td>False</td>\n",
       "      <td>False</td>\n",
       "      <td>False</td>\n",
       "      <td>True</td>\n",
       "      <td>False</td>\n",
       "      <td>False</td>\n",
       "      <td>False</td>\n",
       "      <td>True</td>\n",
       "      <td>True</td>\n",
       "    </tr>\n",
       "    <tr>\n",
       "      <th>7</th>\n",
       "      <td>8</td>\n",
       "      <td>0.693546</td>\n",
       "      <td>470457.722033</td>\n",
       "      <td>True</td>\n",
       "      <td>True</td>\n",
       "      <td>True</td>\n",
       "      <td>False</td>\n",
       "      <td>False</td>\n",
       "      <td>True</td>\n",
       "      <td>True</td>\n",
       "      <td>False</td>\n",
       "      <td>False</td>\n",
       "      <td>False</td>\n",
       "      <td>True</td>\n",
       "      <td>False</td>\n",
       "      <td>False</td>\n",
       "      <td>False</td>\n",
       "      <td>True</td>\n",
       "      <td>True</td>\n",
       "    </tr>\n",
       "    <tr>\n",
       "      <th>8</th>\n",
       "      <td>9</td>\n",
       "      <td>0.695396</td>\n",
       "      <td>470354.005703</td>\n",
       "      <td>True</td>\n",
       "      <td>True</td>\n",
       "      <td>True</td>\n",
       "      <td>True</td>\n",
       "      <td>False</td>\n",
       "      <td>True</td>\n",
       "      <td>True</td>\n",
       "      <td>False</td>\n",
       "      <td>False</td>\n",
       "      <td>False</td>\n",
       "      <td>True</td>\n",
       "      <td>False</td>\n",
       "      <td>False</td>\n",
       "      <td>False</td>\n",
       "      <td>True</td>\n",
       "      <td>True</td>\n",
       "    </tr>\n",
       "    <tr>\n",
       "      <th>9</th>\n",
       "      <td>10</td>\n",
       "      <td>0.696399</td>\n",
       "      <td>470297.985486</td>\n",
       "      <td>True</td>\n",
       "      <td>True</td>\n",
       "      <td>True</td>\n",
       "      <td>True</td>\n",
       "      <td>False</td>\n",
       "      <td>True</td>\n",
       "      <td>True</td>\n",
       "      <td>False</td>\n",
       "      <td>False</td>\n",
       "      <td>True</td>\n",
       "      <td>True</td>\n",
       "      <td>False</td>\n",
       "      <td>False</td>\n",
       "      <td>False</td>\n",
       "      <td>True</td>\n",
       "      <td>True</td>\n",
       "    </tr>\n",
       "    <tr>\n",
       "      <th>10</th>\n",
       "      <td>11</td>\n",
       "      <td>0.697600</td>\n",
       "      <td>470230.467527</td>\n",
       "      <td>True</td>\n",
       "      <td>True</td>\n",
       "      <td>True</td>\n",
       "      <td>True</td>\n",
       "      <td>False</td>\n",
       "      <td>True</td>\n",
       "      <td>True</td>\n",
       "      <td>True</td>\n",
       "      <td>False</td>\n",
       "      <td>True</td>\n",
       "      <td>True</td>\n",
       "      <td>False</td>\n",
       "      <td>False</td>\n",
       "      <td>False</td>\n",
       "      <td>True</td>\n",
       "      <td>True</td>\n",
       "    </tr>\n",
       "    <tr>\n",
       "      <th>11</th>\n",
       "      <td>12</td>\n",
       "      <td>0.698337</td>\n",
       "      <td>470189.276406</td>\n",
       "      <td>True</td>\n",
       "      <td>True</td>\n",
       "      <td>True</td>\n",
       "      <td>True</td>\n",
       "      <td>False</td>\n",
       "      <td>True</td>\n",
       "      <td>True</td>\n",
       "      <td>True</td>\n",
       "      <td>False</td>\n",
       "      <td>True</td>\n",
       "      <td>True</td>\n",
       "      <td>True</td>\n",
       "      <td>False</td>\n",
       "      <td>False</td>\n",
       "      <td>True</td>\n",
       "      <td>True</td>\n",
       "    </tr>\n",
       "    <tr>\n",
       "      <th>12</th>\n",
       "      <td>13</td>\n",
       "      <td>0.698906</td>\n",
       "      <td>470157.645065</td>\n",
       "      <td>True</td>\n",
       "      <td>True</td>\n",
       "      <td>True</td>\n",
       "      <td>True</td>\n",
       "      <td>False</td>\n",
       "      <td>True</td>\n",
       "      <td>True</td>\n",
       "      <td>True</td>\n",
       "      <td>True</td>\n",
       "      <td>True</td>\n",
       "      <td>True</td>\n",
       "      <td>True</td>\n",
       "      <td>False</td>\n",
       "      <td>False</td>\n",
       "      <td>True</td>\n",
       "      <td>True</td>\n",
       "    </tr>\n",
       "    <tr>\n",
       "      <th>13</th>\n",
       "      <td>14</td>\n",
       "      <td>0.699162</td>\n",
       "      <td>470143.922220</td>\n",
       "      <td>True</td>\n",
       "      <td>True</td>\n",
       "      <td>True</td>\n",
       "      <td>True</td>\n",
       "      <td>False</td>\n",
       "      <td>True</td>\n",
       "      <td>True</td>\n",
       "      <td>True</td>\n",
       "      <td>True</td>\n",
       "      <td>True</td>\n",
       "      <td>True</td>\n",
       "      <td>True</td>\n",
       "      <td>False</td>\n",
       "      <td>True</td>\n",
       "      <td>True</td>\n",
       "      <td>True</td>\n",
       "    </tr>\n",
       "    <tr>\n",
       "      <th>14</th>\n",
       "      <td>15</td>\n",
       "      <td>0.699270</td>\n",
       "      <td>470138.686818</td>\n",
       "      <td>True</td>\n",
       "      <td>True</td>\n",
       "      <td>True</td>\n",
       "      <td>True</td>\n",
       "      <td>False</td>\n",
       "      <td>True</td>\n",
       "      <td>True</td>\n",
       "      <td>True</td>\n",
       "      <td>True</td>\n",
       "      <td>True</td>\n",
       "      <td>True</td>\n",
       "      <td>True</td>\n",
       "      <td>True</td>\n",
       "      <td>True</td>\n",
       "      <td>True</td>\n",
       "      <td>True</td>\n",
       "    </tr>\n",
       "    <tr>\n",
       "      <th>15</th>\n",
       "      <td>16</td>\n",
       "      <td>0.699277</td>\n",
       "      <td>470139.294502</td>\n",
       "      <td>True</td>\n",
       "      <td>True</td>\n",
       "      <td>True</td>\n",
       "      <td>True</td>\n",
       "      <td>True</td>\n",
       "      <td>True</td>\n",
       "      <td>True</td>\n",
       "      <td>True</td>\n",
       "      <td>True</td>\n",
       "      <td>True</td>\n",
       "      <td>True</td>\n",
       "      <td>True</td>\n",
       "      <td>True</td>\n",
       "      <td>True</td>\n",
       "      <td>True</td>\n",
       "      <td>True</td>\n",
       "    </tr>\n",
       "  </tbody>\n",
       "</table>\n",
       "</div>"
      ],
      "text/plain": [
       "     n     r2adj            AIC    age  bathrooms  bedrooms  condition  \\\n",
       "0    1  0.488731  479300.223180  False      False     False      False   \n",
       "1    2  0.567906  476392.153716  False      False     False      False   \n",
       "2    3  0.611717  474544.704455  False      False     False      False   \n",
       "3    4  0.645720  472961.096198   True      False     False      False   \n",
       "4    5  0.678577  471279.275869   True      False     False      False   \n",
       "5    6  0.688103  470760.097460   True      False     False      False   \n",
       "6    7  0.690837  470608.862657   True      False      True      False   \n",
       "7    8  0.693546  470457.722033   True       True      True      False   \n",
       "8    9  0.695396  470354.005703   True       True      True       True   \n",
       "9   10  0.696399  470297.985486   True       True      True       True   \n",
       "10  11  0.697600  470230.467527   True       True      True       True   \n",
       "11  12  0.698337  470189.276406   True       True      True       True   \n",
       "12  13  0.698906  470157.645065   True       True      True       True   \n",
       "13  14  0.699162  470143.922220   True       True      True       True   \n",
       "14  15  0.699270  470138.686818   True       True      True       True   \n",
       "15  16  0.699277  470139.294502   True       True      True       True   \n",
       "\n",
       "    floors  grade    lat   long  renovated  sqft_basement  sqft_living  \\\n",
       "0    False  False  False  False      False          False         True   \n",
       "1    False  False   True  False      False          False         True   \n",
       "2    False  False   True  False      False          False         True   \n",
       "3    False   True   True  False      False          False         True   \n",
       "4    False   True   True  False      False          False         True   \n",
       "5    False   True   True  False      False          False         True   \n",
       "6    False   True   True  False      False          False         True   \n",
       "7    False   True   True  False      False          False         True   \n",
       "8    False   True   True  False      False          False         True   \n",
       "9    False   True   True  False      False           True         True   \n",
       "10   False   True   True   True      False           True         True   \n",
       "11   False   True   True   True      False           True         True   \n",
       "12   False   True   True   True       True           True         True   \n",
       "13   False   True   True   True       True           True         True   \n",
       "14   False   True   True   True       True           True         True   \n",
       "15    True   True   True   True       True           True         True   \n",
       "\n",
       "    sqft_living15  sqft_lot  sqft_lot15   view  waterfront  \n",
       "0           False     False       False  False       False  \n",
       "1           False     False       False  False       False  \n",
       "2           False     False       False   True       False  \n",
       "3           False     False       False  False       False  \n",
       "4           False     False       False  False        True  \n",
       "5           False     False       False   True        True  \n",
       "6           False     False       False   True        True  \n",
       "7           False     False       False   True        True  \n",
       "8           False     False       False   True        True  \n",
       "9           False     False       False   True        True  \n",
       "10          False     False       False   True        True  \n",
       "11           True     False       False   True        True  \n",
       "12           True     False       False   True        True  \n",
       "13           True     False        True   True        True  \n",
       "14           True      True        True   True        True  \n",
       "15           True      True        True   True        True  "
      ]
     },
     "execution_count": 30,
     "metadata": {},
     "output_type": "execute_result"
    }
   ],
   "source": [
    "#Conducting Exhaustive Search on training dataset\n",
    "\n",
    "#Constructing train_model function and score_model function\n",
    "def train_model(variables):\n",
    "    model1 = LinearRegression()\n",
    "    model1.fit(train_X[list(variables)], train_y)\n",
    "    return model1\n",
    "#use funtion to pick list of variables in train_X all over again\n",
    "\n",
    "def score_model(model1, variables):\n",
    "    pred_y = model1.predict(train_X[list(variables)])\n",
    "    #negate as the optimized score should be as low as possible\n",
    "    return -adjusted_r2_score(train_y, pred_y, model1)\n",
    "\n",
    "allVariables = train_X.columns\n",
    "results = exhaustive_search(allVariables, train_model, score_model)\n",
    "#results = train_X column + train_model function + score_model function\n",
    "\n",
    "#Contrusting a dataframe to show Exhaustive Search outcome\n",
    "data = []\n",
    "for result in results:\n",
    "    model1 = result['model']\n",
    "    variables = list(result['variables'])\n",
    "    AIC = AIC_score(train_y, model1.predict(train_X[variables]), model1)\n",
    "\n",
    "    d = {'n': result['n'], 'r2adj': -result['score'], 'AIC':AIC}\n",
    "    d.update({var: var in result['variables'] for var in allVariables})\n",
    "    data.append(d)\n",
    "pd.DataFrame(data, columns=('n', 'r2adj', 'AIC') + tuple(sorted(allVariables)))"
   ]
  },
  {
   "cell_type": "markdown",
   "id": "9b487e5a",
   "metadata": {},
   "source": [
    "The model with 6 predictors has Radj^2 = 0.688 which is not so different from R^2 0.699 of 16 predictors.\n",
    "This 6-predictor model can help us save storage space and time on processing/analysis."
   ]
  },
  {
   "cell_type": "code",
   "execution_count": 31,
   "id": "d012a00b",
   "metadata": {},
   "outputs": [],
   "source": [
    "#Removing unnecessary features out of the traing set, only keeping 'true' predictors at line n = 6\n",
    "train_X = train_X[['age', 'grade', 'lat', 'sqft_living', 'view', 'waterfront']]"
   ]
  },
  {
   "cell_type": "code",
   "execution_count": 32,
   "id": "88b55c4e",
   "metadata": {},
   "outputs": [],
   "source": [
    "#Removing unnecessary features out of the test set\n",
    "valid_X = valid_X[['age', 'grade', 'lat', 'sqft_living', 'view', 'waterfront']]"
   ]
  },
  {
   "cell_type": "markdown",
   "id": "b8f292bc",
   "metadata": {},
   "source": [
    "We have just completed feature selection with the outcome being 6 predictors 'age', 'grade', 'lat', 'sqft_living', 'view', 'waterfront'."
   ]
  },
  {
   "cell_type": "markdown",
   "id": "ffce7e62",
   "metadata": {},
   "source": [
    "### c. Multiple linear regression model"
   ]
  },
  {
   "cell_type": "code",
   "execution_count": 33,
   "id": "5b070924",
   "metadata": {},
   "outputs": [],
   "source": [
    "#Building a new model with 6 predictors based on Exhaustive Search result\n",
    "model2 = LinearRegression().fit(train_X, train_y)"
   ]
  },
  {
   "cell_type": "code",
   "execution_count": 34,
   "id": "729fc16c",
   "metadata": {},
   "outputs": [
    {
     "name": "stdout",
     "output_type": "stream",
     "text": [
      "Intercept: -28111180.854240105\n",
      "     Predictor   Coefficients\n",
      "0          age    2495.369154\n",
      "1        grade  113734.068695\n",
      "2          lat  573816.211110\n",
      "3  sqft_living     165.660190\n",
      "4         view   52236.467921\n",
      "5   waterfront  569226.830594\n"
     ]
    }
   ],
   "source": [
    "#Printing model's coefficients model2\n",
    "print('Intercept:', model2.intercept_)\n",
    "print(pd.DataFrame({'Predictor': train_X.columns, 'Coefficients': model2.coef_}))"
   ]
  },
  {
   "cell_type": "code",
   "execution_count": 35,
   "id": "1c5d0e54",
   "metadata": {},
   "outputs": [
    {
     "name": "stdout",
     "output_type": "stream",
     "text": [
      "\n",
      "Regression statistics\n",
      "\n",
      "                      Mean Error (ME) : 0.0000\n",
      "       Root Mean Squared Error (RMSE) : 197649.6106\n",
      "            Mean Absolute Error (MAE) : 126363.8779\n",
      "          Mean Percentage Error (MPE) : -4.6707\n",
      "Mean Absolute Percentage Error (MAPE) : 25.6611\n"
     ]
    }
   ],
   "source": [
    "#Printing model performance measurement (on training data) model2\n",
    "regressionSummary(train_y, model2.predict(train_X))"
   ]
  },
  {
   "cell_type": "code",
   "execution_count": 36,
   "id": "3da5edac",
   "metadata": {},
   "outputs": [],
   "source": [
    "#Using predict() function to make predictions on test set model2\n",
    "y_pred2 = model2.predict(valid_X)"
   ]
  },
  {
   "cell_type": "code",
   "execution_count": 37,
   "id": "d652b16b",
   "metadata": {},
   "outputs": [
    {
     "name": "stdout",
     "output_type": "stream",
     "text": [
      "       Predicted Values  Actual Values      Residuals\n",
      "15544     649176.370285       459000.0 -190176.370285\n",
      "17454     431630.242399       445000.0   13369.757601\n",
      "21548     804976.455325      1057000.0  252023.544675\n",
      "3427      727076.886897       732350.0    5273.113103\n",
      "8809      281509.808440       235000.0  -46509.808440\n",
      "3294      639460.686577       555000.0  -84460.686577\n",
      "275       485322.828788       365000.0 -120322.828788\n",
      "8736      821446.853088       685000.0 -136446.853088\n",
      "6161      556813.990414       525000.0  -31813.990414\n",
      "19832     591473.570677       449950.0 -141523.570677\n"
     ]
    }
   ],
   "source": [
    "#Using the multiple linear regression model2 to predict the prices of the 10 houses\n",
    "result2 = pd.DataFrame({'Predicted Values': y_pred2, 'Actual Values': valid_y, 'Residuals': valid_y - y_pred2})\n",
    "print(result2.head(10))"
   ]
  },
  {
   "cell_type": "code",
   "execution_count": 38,
   "id": "7fce03fc",
   "metadata": {},
   "outputs": [
    {
     "name": "stdout",
     "output_type": "stream",
     "text": [
      "\n",
      "Regression statistics\n",
      "\n",
      "                      Mean Error (ME) : 6763.2111\n",
      "       Root Mean Squared Error (RMSE) : 238925.2440\n",
      "            Mean Absolute Error (MAE) : 132398.3217\n",
      "          Mean Percentage Error (MPE) : -4.2738\n",
      "Mean Absolute Percentage Error (MAPE) : 25.8150\n"
     ]
    }
   ],
   "source": [
    "#Printing model performance measurement (on test data) model2\n",
    "regressionSummary(valid_y, y_pred2)"
   ]
  },
  {
   "cell_type": "markdown",
   "id": "5ae15046",
   "metadata": {},
   "source": [
    "Training set errors < test data errors, model is not overfitting.\n",
    "The difference in errors between training set and test set is not significant."
   ]
  },
  {
   "cell_type": "code",
   "execution_count": 39,
   "id": "374e0328",
   "metadata": {},
   "outputs": [
    {
     "name": "stdout",
     "output_type": "stream",
     "text": [
      "Coefficient of determination (R^2): 0.67\n"
     ]
    }
   ],
   "source": [
    "#Printing predictive accuracy measurement model2\n",
    "print('Coefficient of determination (R^2): %.2f'\n",
    "      % r2_score(valid_y, y_pred2))"
   ]
  },
  {
   "cell_type": "markdown",
   "id": "5dd312a3",
   "metadata": {},
   "source": [
    "Coefficient of determination measures how well the regression model predicts the outcome variable.\n",
    "The higher the R^2 is, the better the regression model explains the outcome variable and fits the actual values."
   ]
  },
  {
   "cell_type": "code",
   "execution_count": 40,
   "id": "93d1b1f9",
   "metadata": {},
   "outputs": [
    {
     "data": {
      "text/plain": [
       "Text(0.5, 0, 'Training')"
      ]
     },
     "execution_count": 40,
     "metadata": {},
     "output_type": "execute_result"
    },
    {
     "data": {
      "image/png": "[encoded data removed]",
      "text/plain": [
       "<Figure size 432x288 with 1 Axes>"
      ]
     },
     "metadata": {
      "needs_background": "light"
     },
     "output_type": "display_data"
    }
   ],
   "source": [
    "#Plotting the error distribution for training set and test set model2\n",
    "#Training set\n",
    "train_e = train_y - model2.predict(train_X)\n",
    "fig, ax = plt.subplots()\n",
    "ax = train_e.hist()\n",
    "ax.set_xlabel('Training')"
   ]
  },
  {
   "cell_type": "code",
   "execution_count": 41,
   "id": "90ed918f",
   "metadata": {},
   "outputs": [
    {
     "data": {
      "text/plain": [
       "Text(0.5, 0, 'Validation')"
      ]
     },
     "execution_count": 41,
     "metadata": {},
     "output_type": "execute_result"
    },
    {
     "data": {
      "image/png": "[encoded data removed]",
      "text/plain": [
       "<Figure size 432x288 with 1 Axes>"
      ]
     },
     "metadata": {
      "needs_background": "light"
     },
     "output_type": "display_data"
    }
   ],
   "source": [
    "#Test set\n",
    "valid_e = valid_y - model2.predict(valid_X)\n",
    "fig, ax = plt.subplots()\n",
    "ax = valid_e.hist()\n",
    "ax.set_xlabel('Validation')"
   ]
  },
  {
   "cell_type": "markdown",
   "id": "25d31b0b",
   "metadata": {},
   "source": [
    "There is a similar error distribution (highly distributed around 0) of training and valid sets."
   ]
  },
  {
   "cell_type": "markdown",
   "id": "e87d6f3b",
   "metadata": {},
   "source": [
    "When evaluating the performance of model1 (16 predictors) and model2 (6 predictors), we can see that:\n",
    "* Root Mean Squared Error (RMSE): model1 = 234628.6661 ~ model2 = 238925.2440\n",
    "* Coefficient of determination (R^2): model1 = 0.68 ~ model2 = 0.67\n",
    "* However, we do a good job of eliminating 10 redundant variables. As a result, it avoids waste of space in the source, makes us easier to focus on those that are more important and optimize the speed of model deployment."
   ]
  },
  {
   "cell_type": "markdown",
   "id": "6744224e",
   "metadata": {},
   "source": [
    "### d. KNN regressor model"
   ]
  },
  {
   "cell_type": "markdown",
   "id": "74e68dae",
   "metadata": {},
   "source": [
    "In this section, we will be using the same predictors 'age', 'grade', 'lat', 'sqft_living', 'view', and 'waterfront' to build the KNN regressor model, because later on we need to compare the performance of the multiple linear regression model and the KNN regressor model."
   ]
  },
  {
   "cell_type": "markdown",
   "id": "2d538bb3",
   "metadata": {},
   "source": [
    "We are going to test a range of k value and see which produces the lowest error."
   ]
  },
  {
   "cell_type": "code",
   "execution_count": 42,
   "id": "4106baa4",
   "metadata": {},
   "outputs": [],
   "source": [
    "#Setting a range for k value (there are 17290 observations in the train set, it is not good to initialize k from a small value)\n",
    "#Therefore, I choose k_value in the range of (5,51)\n",
    "k_value = [i for i in range(5,51,2)]\n",
    "\n",
    "#Creating an empty list that holds cv_scores\n",
    "error = []\n",
    "\n",
    "#Creating a loop to test k value\n",
    "for k in k_value:\n",
    "    model3 = KNeighborsRegressor(n_neighbors=k).fit(train_X, train_y)\n",
    "    error.append(mean_squared_error(train_y, model3.predict(train_X)))"
   ]
  },
  {
   "cell_type": "code",
   "execution_count": 43,
   "id": "8f2fd90b",
   "metadata": {},
   "outputs": [
    {
     "name": "stdout",
     "output_type": "stream",
     "text": [
      "Our optimal k value is 5\n"
     ]
    }
   ],
   "source": [
    "#Printing optimal k value (minimum error)\n",
    "optimal_k = k_value[error.index(min(error))]\n",
    "print(\"Our optimal k value is {}\".format(optimal_k))"
   ]
  },
  {
   "cell_type": "code",
   "execution_count": 44,
   "id": "55ad9e4b",
   "metadata": {},
   "outputs": [
    {
     "data": {
      "image/png": "[encoded data removed]",
      "text/plain": [
       "<Figure size 432x288 with 1 Axes>"
      ]
     },
     "metadata": {
      "needs_background": "light"
     },
     "output_type": "display_data"
    }
   ],
   "source": [
    "#Plotting k value and error\n",
    "plt.plot(k_value,error)\n",
    "plt.show()"
   ]
  },
  {
   "cell_type": "markdown",
   "id": "26ad6197",
   "metadata": {},
   "source": [
    "To have higher accuracy for our prediction, I choose k = 5 to construct KNN regressor model."
   ]
  },
  {
   "cell_type": "code",
   "execution_count": 45,
   "id": "14b8b175",
   "metadata": {},
   "outputs": [],
   "source": [
    "#Constructing model with k = 5\n",
    "model3 = KNeighborsRegressor(n_neighbors=5).fit(train_X, train_y)"
   ]
  },
  {
   "cell_type": "code",
   "execution_count": 46,
   "id": "4b59af62",
   "metadata": {},
   "outputs": [
    {
     "name": "stdout",
     "output_type": "stream",
     "text": [
      "\n",
      "Regression statistics\n",
      "\n",
      "                      Mean Error (ME) : 4186.1791\n",
      "       Root Mean Squared Error (RMSE) : 199902.6763\n",
      "            Mean Absolute Error (MAE) : 128742.0888\n",
      "          Mean Percentage Error (MPE) : -9.1339\n",
      "Mean Absolute Percentage Error (MAPE) : 26.0515\n"
     ]
    }
   ],
   "source": [
    "#Printing model performance measurement (on training data) model3\n",
    "regressionSummary(train_y, model3.predict(train_X))"
   ]
  },
  {
   "cell_type": "code",
   "execution_count": 47,
   "id": "b0e4964b",
   "metadata": {},
   "outputs": [],
   "source": [
    "#Using predict() function to make predictions on test set model3\n",
    "y_pred3 = model3.predict(valid_X)"
   ]
  },
  {
   "cell_type": "code",
   "execution_count": 48,
   "id": "92a48d70",
   "metadata": {},
   "outputs": [
    {
     "name": "stdout",
     "output_type": "stream",
     "text": [
      "\n",
      "Regression statistics\n",
      "\n",
      "                      Mean Error (ME) : 8314.6203\n",
      "       Root Mean Squared Error (RMSE) : 278715.9922\n",
      "            Mean Absolute Error (MAE) : 169470.0272\n",
      "          Mean Percentage Error (MPE) : -12.1310\n",
      "Mean Absolute Percentage Error (MAPE) : 33.2792\n"
     ]
    }
   ],
   "source": [
    "#Printing model performance measurement (on test data) model3\n",
    "regressionSummary(valid_y, y_pred3)"
   ]
  },
  {
   "cell_type": "markdown",
   "id": "64e9ea13",
   "metadata": {},
   "source": [
    "Training set errors < test data errors, model is not overfitting. The difference in errors between training set and test set is not significant. "
   ]
  },
  {
   "cell_type": "code",
   "execution_count": 49,
   "id": "4c6c87c4",
   "metadata": {},
   "outputs": [
    {
     "name": "stdout",
     "output_type": "stream",
     "text": [
      "Coefficient of determination (R^2): 0.55\n"
     ]
    }
   ],
   "source": [
    "#Printing predictive accuracy measurement model3\n",
    "print('Coefficient of determination (R^2): %.2f'\n",
    "      % r2_score(valid_y, y_pred3))"
   ]
  },
  {
   "cell_type": "markdown",
   "id": "28935074",
   "metadata": {},
   "source": [
    "When comparing the prediction performance of multiple linear regression model and KNN regressor model, we have:\n",
    "* Coefficient of determination: model3 = 0.55 < model2 = 0.67\n",
    "* Root Mean Squared Error (RMSE): model3 = 278715.9922 > model 2 = 238925.2440"
   ]
  },
  {
   "cell_type": "markdown",
   "id": "2125e8bd",
   "metadata": {},
   "source": [
    "We choose model2, which has better prediction accuracy."
   ]
  },
  {
   "cell_type": "markdown",
   "id": "660b18a0",
   "metadata": {},
   "source": [
    "### e. Data standardization and data normalization"
   ]
  },
  {
   "cell_type": "code",
   "execution_count": 50,
   "id": "ad321e96",
   "metadata": {},
   "outputs": [
    {
     "data": {
      "text/html": [
       "<div>\n",
       "<style scoped>\n",
       "    .dataframe tbody tr th:only-of-type {\n",
       "        vertical-align: middle;\n",
       "    }\n",
       "\n",
       "    .dataframe tbody tr th {\n",
       "        vertical-align: top;\n",
       "    }\n",
       "\n",
       "    .dataframe thead th {\n",
       "        text-align: right;\n",
       "    }\n",
       "</style>\n",
       "<table border=\"1\" class=\"dataframe\">\n",
       "  <thead>\n",
       "    <tr style=\"text-align: right;\">\n",
       "      <th></th>\n",
       "      <th>age</th>\n",
       "      <th>grade</th>\n",
       "      <th>lat</th>\n",
       "      <th>sqft_living</th>\n",
       "      <th>view</th>\n",
       "      <th>waterfront</th>\n",
       "    </tr>\n",
       "  </thead>\n",
       "  <tbody>\n",
       "    <tr>\n",
       "      <th>count</th>\n",
       "      <td>17290.000000</td>\n",
       "      <td>17290.000000</td>\n",
       "      <td>17290.000000</td>\n",
       "      <td>17290.000000</td>\n",
       "      <td>17290.000000</td>\n",
       "      <td>17290.000000</td>\n",
       "    </tr>\n",
       "    <tr>\n",
       "      <th>mean</th>\n",
       "      <td>51.084905</td>\n",
       "      <td>7.656044</td>\n",
       "      <td>47.559674</td>\n",
       "      <td>2074.586293</td>\n",
       "      <td>0.234182</td>\n",
       "      <td>0.007750</td>\n",
       "    </tr>\n",
       "    <tr>\n",
       "      <th>std</th>\n",
       "      <td>29.418996</td>\n",
       "      <td>1.172730</td>\n",
       "      <td>0.138770</td>\n",
       "      <td>903.771540</td>\n",
       "      <td>0.763897</td>\n",
       "      <td>0.087696</td>\n",
       "    </tr>\n",
       "    <tr>\n",
       "      <th>min</th>\n",
       "      <td>7.000000</td>\n",
       "      <td>3.000000</td>\n",
       "      <td>47.155900</td>\n",
       "      <td>370.000000</td>\n",
       "      <td>0.000000</td>\n",
       "      <td>0.000000</td>\n",
       "    </tr>\n",
       "    <tr>\n",
       "      <th>25%</th>\n",
       "      <td>25.000000</td>\n",
       "      <td>7.000000</td>\n",
       "      <td>47.470225</td>\n",
       "      <td>1420.000000</td>\n",
       "      <td>0.000000</td>\n",
       "      <td>0.000000</td>\n",
       "    </tr>\n",
       "    <tr>\n",
       "      <th>50%</th>\n",
       "      <td>47.000000</td>\n",
       "      <td>7.000000</td>\n",
       "      <td>47.571300</td>\n",
       "      <td>1920.000000</td>\n",
       "      <td>0.000000</td>\n",
       "      <td>0.000000</td>\n",
       "    </tr>\n",
       "    <tr>\n",
       "      <th>75%</th>\n",
       "      <td>71.000000</td>\n",
       "      <td>8.000000</td>\n",
       "      <td>47.677700</td>\n",
       "      <td>2550.000000</td>\n",
       "      <td>0.000000</td>\n",
       "      <td>0.000000</td>\n",
       "    </tr>\n",
       "    <tr>\n",
       "      <th>max</th>\n",
       "      <td>122.000000</td>\n",
       "      <td>13.000000</td>\n",
       "      <td>47.777600</td>\n",
       "      <td>9640.000000</td>\n",
       "      <td>4.000000</td>\n",
       "      <td>1.000000</td>\n",
       "    </tr>\n",
       "  </tbody>\n",
       "</table>\n",
       "</div>"
      ],
      "text/plain": [
       "                age         grade           lat   sqft_living          view  \\\n",
       "count  17290.000000  17290.000000  17290.000000  17290.000000  17290.000000   \n",
       "mean      51.084905      7.656044     47.559674   2074.586293      0.234182   \n",
       "std       29.418996      1.172730      0.138770    903.771540      0.763897   \n",
       "min        7.000000      3.000000     47.155900    370.000000      0.000000   \n",
       "25%       25.000000      7.000000     47.470225   1420.000000      0.000000   \n",
       "50%       47.000000      7.000000     47.571300   1920.000000      0.000000   \n",
       "75%       71.000000      8.000000     47.677700   2550.000000      0.000000   \n",
       "max      122.000000     13.000000     47.777600   9640.000000      4.000000   \n",
       "\n",
       "         waterfront  \n",
       "count  17290.000000  \n",
       "mean       0.007750  \n",
       "std        0.087696  \n",
       "min        0.000000  \n",
       "25%        0.000000  \n",
       "50%        0.000000  \n",
       "75%        0.000000  \n",
       "max        1.000000  "
      ]
     },
     "execution_count": 50,
     "metadata": {},
     "output_type": "execute_result"
    }
   ],
   "source": [
    "#Checking data range of 6 predictors\n",
    "train_X.describe()"
   ]
  },
  {
   "cell_type": "markdown",
   "id": "c5705cda",
   "metadata": {},
   "source": [
    "We can see that our features have very different scales. Therefore, some variables with a larger range of data like 'sqft_living' and 'lat' tend to dominate other variables and skew the outcome."
   ]
  },
  {
   "cell_type": "markdown",
   "id": "9a06bc4f",
   "metadata": {},
   "source": [
    "Solution: we need to rescale the features of the housing dataset."
   ]
  },
  {
   "cell_type": "markdown",
   "id": "a034fc5d",
   "metadata": {},
   "source": [
    "There are 2 popular types of feature scaling:\n",
    "* Standardization means to rescale the data to have a mean of 0 and a standard deviation of 1 to fit standard normal distribution.\n",
    "* Normalization means to rescale the data to a range of (0,1)."
   ]
  },
  {
   "cell_type": "markdown",
   "id": "c7713db6",
   "metadata": {},
   "source": [
    "#### Which method we are going to use for our machine learning model?"
   ]
  },
  {
   "cell_type": "code",
   "execution_count": 51,
   "id": "5073d947",
   "metadata": {},
   "outputs": [
    {
     "data": {
      "image/png": "[encoded data removed]",
      "text/plain": [
       "<Figure size 360x360 with 1 Axes>"
      ]
     },
     "metadata": {
      "needs_background": "light"
     },
     "output_type": "display_data"
    }
   ],
   "source": [
    "#Plotting sqft_living distribution\n",
    "dis_sqft_living = sns.displot(train_X, x=\"sqft_living\")"
   ]
  },
  {
   "cell_type": "code",
   "execution_count": 52,
   "id": "73665745",
   "metadata": {},
   "outputs": [
    {
     "data": {
      "image/png": "[encoded data removed]",
      "text/plain": [
       "<Figure size 360x360 with 1 Axes>"
      ]
     },
     "metadata": {
      "needs_background": "light"
     },
     "output_type": "display_data"
    }
   ],
   "source": [
    "#Plotting price distribution\n",
    "dis_price = sns.displot(train_y)"
   ]
  },
  {
   "cell_type": "markdown",
   "id": "ad4e8fc6",
   "metadata": {},
   "source": [
    "The 2 histograms of sqft_living and price indicate that both of them have right-skewed distribution with a long tail filling by outliers. Data normalization just presses the data into a smaller scale of 0-1, and it makes the normalized data more sensitive to outliers. Therefore, it is better to perform data standardization."
   ]
  },
  {
   "cell_type": "markdown",
   "id": "2df50a36",
   "metadata": {},
   "source": [
    "#### Performing data standardization"
   ]
  },
  {
   "cell_type": "code",
   "execution_count": 53,
   "id": "249cec08",
   "metadata": {},
   "outputs": [],
   "source": [
    "#Conducting data standardization\n",
    "scaler = StandardScaler()\n",
    "stan_train_X = pd.DataFrame(scaler.fit_transform(train_X),index=train_X.index,columns=train_X.columns)\n",
    "stan_valid_X = pd.DataFrame(scaler.fit_transform(valid_X),index=valid_X.index,columns=valid_X.columns)"
   ]
  },
  {
   "cell_type": "code",
   "execution_count": 54,
   "id": "05e3ff88",
   "metadata": {},
   "outputs": [
    {
     "data": {
      "text/html": [
       "<div>\n",
       "<style scoped>\n",
       "    .dataframe tbody tr th:only-of-type {\n",
       "        vertical-align: middle;\n",
       "    }\n",
       "\n",
       "    .dataframe tbody tr th {\n",
       "        vertical-align: top;\n",
       "    }\n",
       "\n",
       "    .dataframe thead th {\n",
       "        text-align: right;\n",
       "    }\n",
       "</style>\n",
       "<table border=\"1\" class=\"dataframe\">\n",
       "  <thead>\n",
       "    <tr style=\"text-align: right;\">\n",
       "      <th></th>\n",
       "      <th>age</th>\n",
       "      <th>grade</th>\n",
       "      <th>lat</th>\n",
       "      <th>sqft_living</th>\n",
       "      <th>view</th>\n",
       "      <th>waterfront</th>\n",
       "    </tr>\n",
       "  </thead>\n",
       "  <tbody>\n",
       "    <tr>\n",
       "      <th>count</th>\n",
       "      <td>1.729000e+04</td>\n",
       "      <td>1.729000e+04</td>\n",
       "      <td>1.729000e+04</td>\n",
       "      <td>1.729000e+04</td>\n",
       "      <td>1.729000e+04</td>\n",
       "      <td>1.729000e+04</td>\n",
       "    </tr>\n",
       "    <tr>\n",
       "      <th>mean</th>\n",
       "      <td>-1.205578e-17</td>\n",
       "      <td>1.994420e-17</td>\n",
       "      <td>-1.641411e-14</td>\n",
       "      <td>-1.373748e-16</td>\n",
       "      <td>-6.779360e-16</td>\n",
       "      <td>2.204714e-16</td>\n",
       "    </tr>\n",
       "    <tr>\n",
       "      <th>std</th>\n",
       "      <td>1.000029e+00</td>\n",
       "      <td>1.000029e+00</td>\n",
       "      <td>1.000029e+00</td>\n",
       "      <td>1.000029e+00</td>\n",
       "      <td>1.000029e+00</td>\n",
       "      <td>1.000029e+00</td>\n",
       "    </tr>\n",
       "    <tr>\n",
       "      <th>min</th>\n",
       "      <td>-1.498562e+00</td>\n",
       "      <td>-3.970375e+00</td>\n",
       "      <td>-2.909739e+00</td>\n",
       "      <td>-1.886136e+00</td>\n",
       "      <td>-3.065706e-01</td>\n",
       "      <td>-8.837804e-02</td>\n",
       "    </tr>\n",
       "    <tr>\n",
       "      <th>25%</th>\n",
       "      <td>-8.866944e-01</td>\n",
       "      <td>-5.594321e-01</td>\n",
       "      <td>-6.446018e-01</td>\n",
       "      <td>-7.243039e-01</td>\n",
       "      <td>-3.065706e-01</td>\n",
       "      <td>-8.837804e-02</td>\n",
       "    </tr>\n",
       "    <tr>\n",
       "      <th>50%</th>\n",
       "      <td>-1.388566e-01</td>\n",
       "      <td>-5.594321e-01</td>\n",
       "      <td>8.378061e-02</td>\n",
       "      <td>-1.710507e-01</td>\n",
       "      <td>-3.065706e-01</td>\n",
       "      <td>-8.837804e-02</td>\n",
       "    </tr>\n",
       "    <tr>\n",
       "      <th>75%</th>\n",
       "      <td>6.769664e-01</td>\n",
       "      <td>2.933036e-01</td>\n",
       "      <td>8.505368e-01</td>\n",
       "      <td>5.260483e-01</td>\n",
       "      <td>-3.065706e-01</td>\n",
       "      <td>-8.837804e-02</td>\n",
       "    </tr>\n",
       "    <tr>\n",
       "      <th>max</th>\n",
       "      <td>2.410590e+00</td>\n",
       "      <td>4.556982e+00</td>\n",
       "      <td>1.570452e+00</td>\n",
       "      <td>8.371178e+00</td>\n",
       "      <td>4.929889e+00</td>\n",
       "      <td>1.131503e+01</td>\n",
       "    </tr>\n",
       "  </tbody>\n",
       "</table>\n",
       "</div>"
      ],
      "text/plain": [
       "                age         grade           lat   sqft_living          view  \\\n",
       "count  1.729000e+04  1.729000e+04  1.729000e+04  1.729000e+04  1.729000e+04   \n",
       "mean  -1.205578e-17  1.994420e-17 -1.641411e-14 -1.373748e-16 -6.779360e-16   \n",
       "std    1.000029e+00  1.000029e+00  1.000029e+00  1.000029e+00  1.000029e+00   \n",
       "min   -1.498562e+00 -3.970375e+00 -2.909739e+00 -1.886136e+00 -3.065706e-01   \n",
       "25%   -8.866944e-01 -5.594321e-01 -6.446018e-01 -7.243039e-01 -3.065706e-01   \n",
       "50%   -1.388566e-01 -5.594321e-01  8.378061e-02 -1.710507e-01 -3.065706e-01   \n",
       "75%    6.769664e-01  2.933036e-01  8.505368e-01  5.260483e-01 -3.065706e-01   \n",
       "max    2.410590e+00  4.556982e+00  1.570452e+00  8.371178e+00  4.929889e+00   \n",
       "\n",
       "         waterfront  \n",
       "count  1.729000e+04  \n",
       "mean   2.204714e-16  \n",
       "std    1.000029e+00  \n",
       "min   -8.837804e-02  \n",
       "25%   -8.837804e-02  \n",
       "50%   -8.837804e-02  \n",
       "75%   -8.837804e-02  \n",
       "max    1.131503e+01  "
      ]
     },
     "execution_count": 54,
     "metadata": {},
     "output_type": "execute_result"
    }
   ],
   "source": [
    "#Checking the data range of standardized data\n",
    "stan_train_X.describe()"
   ]
  },
  {
   "cell_type": "markdown",
   "id": "0bbac696",
   "metadata": {},
   "source": [
    "#### Building multiple linear regression model using standardized data"
   ]
  },
  {
   "cell_type": "code",
   "execution_count": 55,
   "id": "e448058d",
   "metadata": {},
   "outputs": [],
   "source": [
    "#Building multiple linear regression model using standardized data\n",
    "model4 = LinearRegression().fit(stan_train_X, train_y)"
   ]
  },
  {
   "cell_type": "code",
   "execution_count": 56,
   "id": "abc3a954",
   "metadata": {},
   "outputs": [
    {
     "name": "stdout",
     "output_type": "stream",
     "text": [
      "\n",
      "Regression statistics\n",
      "\n",
      "                      Mean Error (ME) : -0.0000\n",
      "       Root Mean Squared Error (RMSE) : 197649.6106\n",
      "            Mean Absolute Error (MAE) : 126363.8779\n",
      "          Mean Percentage Error (MPE) : -4.6707\n",
      "Mean Absolute Percentage Error (MAPE) : 25.6611\n"
     ]
    }
   ],
   "source": [
    "#Printing model performance measurement (on training data) model4\n",
    "regressionSummary(train_y, model4.predict(stan_train_X))"
   ]
  },
  {
   "cell_type": "code",
   "execution_count": 57,
   "id": "29ca2459",
   "metadata": {},
   "outputs": [],
   "source": [
    "#Using predict() function to make predictions on test set model4\n",
    "y_pred4 = model4.predict(stan_valid_X)"
   ]
  },
  {
   "cell_type": "code",
   "execution_count": 58,
   "id": "1d291098",
   "metadata": {},
   "outputs": [
    {
     "name": "stdout",
     "output_type": "stream",
     "text": [
      "\n",
      "Regression statistics\n",
      "\n",
      "                      Mean Error (ME) : 11036.6129\n",
      "       Root Mean Squared Error (RMSE) : 240740.4994\n",
      "            Mean Absolute Error (MAE) : 130421.0389\n",
      "          Mean Percentage Error (MPE) : -4.1619\n",
      "Mean Absolute Percentage Error (MAPE) : 25.2131\n"
     ]
    }
   ],
   "source": [
    "#Printing model performance measurement (on test data) model4\n",
    "regressionSummary(valid_y, y_pred4)"
   ]
  },
  {
   "cell_type": "markdown",
   "id": "4d5392af",
   "metadata": {},
   "source": [
    "Training set errors < test data errors, model is not overfitting. The difference in errors between training set and test set is not significant."
   ]
  },
  {
   "cell_type": "code",
   "execution_count": 59,
   "id": "82a070be",
   "metadata": {},
   "outputs": [
    {
     "name": "stdout",
     "output_type": "stream",
     "text": [
      "Coefficient of determination (R^2): 0.66\n"
     ]
    }
   ],
   "source": [
    "#Printing predictive accuracy measurement model4\n",
    "print('Coefficient of determination (R^2): %.2f'\n",
    "      % r2_score(valid_y, y_pred4))"
   ]
  },
  {
   "cell_type": "markdown",
   "id": "8da74cec",
   "metadata": {},
   "source": [
    "Model2 and model4 comparison:\n",
    "* Coefficient of determination: model4 = 0.66 < model2 = 0.67\n",
    "* Root Mean Squared Error (RMSE): model4 = 240740.4994 > model2 = 238925.2440"
   ]
  },
  {
   "cell_type": "markdown",
   "id": "f0751ada",
   "metadata": {},
   "source": [
    "Model2 is still the algorithm with higher prediction accuracy."
   ]
  },
  {
   "cell_type": "markdown",
   "id": "05f8821c",
   "metadata": {},
   "source": [
    "#### Building KNN regressor model using standardized data"
   ]
  },
  {
   "cell_type": "code",
   "execution_count": 60,
   "id": "ac9925e0",
   "metadata": {},
   "outputs": [],
   "source": [
    "#Constructing model with k = 5 using standardized data\n",
    "model5 = KNeighborsRegressor(n_neighbors=5).fit(stan_train_X, train_y)"
   ]
  },
  {
   "cell_type": "code",
   "execution_count": 61,
   "id": "8d4786f8",
   "metadata": {},
   "outputs": [
    {
     "name": "stdout",
     "output_type": "stream",
     "text": [
      "\n",
      "Regression statistics\n",
      "\n",
      "                      Mean Error (ME) : 874.9375\n",
      "       Root Mean Squared Error (RMSE) : 129516.2352\n",
      "            Mean Absolute Error (MAE) : 73768.3358\n",
      "          Mean Percentage Error (MPE) : -3.2650\n",
      "Mean Absolute Percentage Error (MAPE) : 13.6409\n"
     ]
    }
   ],
   "source": [
    "#Printing model performance measurement (on training data) model5\n",
    "regressionSummary(train_y, model5.predict(stan_train_X))"
   ]
  },
  {
   "cell_type": "code",
   "execution_count": 62,
   "id": "1aab1088",
   "metadata": {},
   "outputs": [],
   "source": [
    "#Using predict() function to make predictions on test set model5\n",
    "y_pred5 = model5.predict(stan_valid_X)"
   ]
  },
  {
   "cell_type": "code",
   "execution_count": 63,
   "id": "2beaa6b3",
   "metadata": {},
   "outputs": [
    {
     "name": "stdout",
     "output_type": "stream",
     "text": [
      "\n",
      "Regression statistics\n",
      "\n",
      "                      Mean Error (ME) : 10123.2304\n",
      "       Root Mean Squared Error (RMSE) : 194276.9569\n",
      "            Mean Absolute Error (MAE) : 94907.8615\n",
      "          Mean Percentage Error (MPE) : -3.8337\n",
      "Mean Absolute Percentage Error (MAPE) : 16.6141\n"
     ]
    }
   ],
   "source": [
    "#Printing model performance measurement (on test data) model5\n",
    "regressionSummary(valid_y, y_pred5)"
   ]
  },
  {
   "cell_type": "markdown",
   "id": "b5d7ca9f",
   "metadata": {},
   "source": [
    "Training set errors < test data errors, model is not overfitting. The difference in errors between training set and test set is not significant."
   ]
  },
  {
   "cell_type": "code",
   "execution_count": 64,
   "id": "f4cf5bcf",
   "metadata": {},
   "outputs": [
    {
     "name": "stdout",
     "output_type": "stream",
     "text": [
      "Coefficient of determination (R^2): 0.78\n"
     ]
    }
   ],
   "source": [
    "#Printing predictive accuracy measurement model5\n",
    "print('Coefficient of determination (R^2): %.2f'\n",
    "      % r2_score(valid_y, y_pred5))"
   ]
  },
  {
   "cell_type": "markdown",
   "id": "434dc209",
   "metadata": {},
   "source": [
    "Model2 and model5 comparison:\n",
    "\n",
    "* Coefficient of determination: model5 = 0.78 > model2 0.67\n",
    "* Root Mean Squared Error (RMSE): model5 = 194276.9569 < model2 = 238925.2440"
   ]
  },
  {
   "cell_type": "markdown",
   "id": "d720a97f",
   "metadata": {},
   "source": [
    "We pick model5 as our ideal model, which has the highest prediction accuracy."
   ]
  },
  {
   "cell_type": "code",
   "execution_count": 65,
   "id": "d312d8bd",
   "metadata": {},
   "outputs": [
    {
     "name": "stdout",
     "output_type": "stream",
     "text": [
      "       Predicted Values  Actual Values  Residuals\n",
      "15544          556100.0       459000.0   -97100.0\n",
      "17454          393300.0       445000.0    51700.0\n",
      "21548          787940.0      1057000.0   269060.0\n",
      "3427           667767.6       732350.0    64582.4\n",
      "8809           271000.0       235000.0   -36000.0\n",
      "3294           664100.0       555000.0  -109100.0\n",
      "275            370560.0       365000.0    -5560.0\n",
      "8736           753680.0       685000.0   -68680.0\n",
      "6161           562230.0       525000.0   -37230.0\n",
      "19832          447580.0       449950.0     2370.0\n"
     ]
    }
   ],
   "source": [
    "#Using the KNN regressor model5 to predict the prices of the 10 houses\n",
    "result5 = pd.DataFrame({'Predicted Values': y_pred5, 'Actual Values': valid_y, 'Residuals': valid_y - y_pred5})\n",
    "print(result5.head(10))"
   ]
  },
  {
   "cell_type": "markdown",
   "id": "34353353",
   "metadata": {},
   "source": [
    "## CONCLUSION"
   ]
  },
  {
   "cell_type": "markdown",
   "id": "84176e27",
   "metadata": {},
   "source": [
    "Here are some conclusions:\n",
    "* After carrying out feature selection, there are two continuous features and four discrete features, which are used to predict the price of houses.\n",
    "* In this project, I have determined the most accurate model by applying KNN regressor model techniques at k = 5 and using standardized data. The coefficient of determination (R^2) is equal to 0.78. Furthermore, we know that the standard R^2 value depends on the study area, and I believe that for house price prediction, a model that has a set of predictors explaining 78% of the outcome is acceptable. \n",
    "* I suggest using Nonlinear regression for further analysis because it seems like basic linear regression or KNN regressor can not be applied to create a model with R^2 more than 0.9."
   ]
  },
  {
   "cell_type": "markdown",
   "id": "61f252fe",
   "metadata": {},
   "source": [
    "## REFERENCES"
   ]
  },
  {
   "cell_type": "markdown",
   "id": "9495f921",
   "metadata": {},
   "source": [
    "* Build Linear Regression Model in Python. [Link](https://github.com/dataprofessor/code/blob/master/python/linear_regression.ipynb)\n",
    "* Choosing the Correct Type of Regression Analysis. [Link](https://statisticsbyjim.com/regression/choosing-regression-analysis/)\n",
    "* Feature Selection in Python | Machine Learning Basics | Boston Housing Data. [Link](https://www.youtube.com/watch?v=iJ5c-XoHPFo&list=PLfdYKAN5q9QMO9WkKS67AveqwpcCPFvzc&index=4)\n",
    "* Feature Selection- With Correlation. [Link](https://github.com/krishnaik06/Complete-Feature-Selection/blob/master/2-Feature%20Selection-%20Correlation.ipynb)\n",
    "* How High Does R-squared Need to Be? [Link](https://statisticsbyjim.com/regression/how-high-r-squared/)\n",
    "* Introduction to kNN: k Nearest Neighbors Classification and Regression in Python Using scikit-learn. [Link](https://www.youtube.com/watch?v=SDSC4yLLBKM)\n",
    "* King County Home Sales: Analysis and the limitations of a multiple regression model. [Link](https://rstudio-pubs-static.s3.amazonaws.com/155304_cc51f448116744069664b35e7762999f.html)\n",
    "* K-Nearest Neighbor Regression with Python. [Link](https://www.youtube.com/watch?v=bYM09nTVbk0)\n",
    "* Linear Reg Part 4 RMSE and Model Comparison. [Link](https://www.youtube.com/watch?v=xxFMCm1zPm8)\n",
    "* Linear regression, test train split, data normalization, yellow brick library etc part 2. [Link](https://www.youtube.com/watch?v=oKiR5E521AQ)\n",
    "* Machine Learning in Python: Building a Linear Regression Model. [Link](https://www.youtube.com/watch?v=R15LjD8aCzc)\n",
    "* Normalization Vs. Standardization (Feature Scaling in Machine Learning). [Link](https://youtu.be/bqhQ2LWBheQ)\n"
   ]
  }
 ],
 "metadata": {
  "kernelspec": {
   "display_name": "Python 3 (ipykernel)",
   "language": "python",
   "name": "python3"
  },
  "language_info": {
   "codemirror_mode": {
    "name": "ipython",
    "version": 3
   },
   "file_extension": ".py",
   "mimetype": "text/x-python",
   "name": "python",
   "nbconvert_exporter": "python",
   "pygments_lexer": "ipython3",
   "version": "3.9.12"
  }
 },
 "nbformat": 4,
 "nbformat_minor": 5
}
